{
 "cells": [
  {
   "cell_type": "code",
   "execution_count": 10,
   "metadata": {},
   "outputs": [],
   "source": [
    "import json\n",
    "import numpy as np\n",
    "import matplotlib.pyplot as plt"
   ]
  },
  {
   "cell_type": "code",
   "execution_count": 11,
   "metadata": {},
   "outputs": [],
   "source": [
    "# 整合 data_road data_lot 得到所有节点的 json 并赋予标号\n",
    "total = 0\n",
    "\n",
    "with open(\"./config/settings.json\", 'r') as f:\n",
    "    total = json.load(f)['cnt']"
   ]
  },
  {
   "cell_type": "code",
   "execution_count": 12,
   "metadata": {},
   "outputs": [],
   "source": [
    "data = []\n",
    "\n",
    "with open(\"./config/data_lot.json\", \"r\") as f:\n",
    "    data.extend(json.load(f))\n",
    "with open(\"./config/data_road.json\", \"r\") as f:\n",
    "    data.extend(json.load(f))\n",
    "    \n",
    "assert(len(data) == total)"
   ]
  },
  {
   "cell_type": "code",
   "execution_count": 13,
   "metadata": {},
   "outputs": [],
   "source": [
    "# 给予连续标号从0开始\n",
    "idx = 0\n",
    "\n",
    "for i in range(total):\n",
    "    data[i]['id'] = idx\n",
    "    idx += 1"
   ]
  },
  {
   "cell_type": "code",
   "execution_count": 14,
   "metadata": {},
   "outputs": [],
   "source": [
    "# 写入 data.json\n",
    "with open(\"./config/data.json\", \"w\") as f:\n",
    "    json.dump(data, f, indent=4)"
   ]
  },
  {
   "cell_type": "code",
   "execution_count": 17,
   "metadata": {},
   "outputs": [],
   "source": [
    "# 写一个文件记录，起点1映射到哪个id\n",
    "\n",
    "START = []\n",
    "for item in data:\n",
    "    if item['is_entrance']:\n",
    "        START.append(item['id'])\n",
    "with open(\"./config/START.json\", \"w\") as f:\n",
    "    json.dump(START, f, indent=4)"
   ]
  },
  {
   "cell_type": "code",
   "execution_count": null,
   "metadata": {},
   "outputs": [],
   "source": []
  }
 ],
 "metadata": {
  "kernelspec": {
   "display_name": "ML",
   "language": "python",
   "name": "python3"
  },
  "language_info": {
   "codemirror_mode": {
    "name": "ipython",
    "version": 3
   },
   "file_extension": ".py",
   "mimetype": "text/x-python",
   "name": "python",
   "nbconvert_exporter": "python",
   "pygments_lexer": "ipython3",
   "version": "3.10.13 | packaged by Anaconda, Inc. | (main, Sep 11 2023, 13:24:38) [MSC v.1916 64 bit (AMD64)]"
  },
  "orig_nbformat": 4,
  "vscode": {
   "interpreter": {
    "hash": "bfcdffa8cd93097f0f0dcf7af30866aae111c31163833aba8e436105b8f59ac8"
   }
  }
 },
 "nbformat": 4,
 "nbformat_minor": 2
}
